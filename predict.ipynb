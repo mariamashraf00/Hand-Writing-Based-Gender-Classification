{
  "nbformat": 4,
  "nbformat_minor": 0,
  "metadata": {
    "colab": {
      "name": "predict.ipynb",
      "provenance": [],
      "collapsed_sections": []
    },
    "kernelspec": {
      "name": "python3",
      "display_name": "Python 3"
    },
    "language_info": {
      "name": "python"
    }
  },
  "cells": [
    {
      "cell_type": "code",
      "execution_count": 9,
      "metadata": {
        "id": "ahrmEJgt3r7n"
      },
      "outputs": [],
      "source": [
        "import glob\n",
        "from sklearn.ensemble import VotingClassifier\n",
        "import pickle\n",
        "import time"
      ]
    },
    {
      "cell_type": "code",
      "source": [
        "import sys\n",
        "from google.colab import drive\n",
        "drive.mount('/content/drive')\n",
        "sys.path.append('/content/drive/My Drive/NN Dataset/Project')"
      ],
      "metadata": {
        "colab": {
          "base_uri": "https://localhost:8080/"
        },
        "id": "ZRFrr-463yT8",
        "outputId": "f10f8cc3-ed37-44e0-9a61-9931a108abdc"
      },
      "execution_count": 12,
      "outputs": [
        {
          "output_type": "stream",
          "name": "stdout",
          "text": [
            "Drive already mounted at /content/drive; to attempt to forcibly remount, call drive.mount(\"/content/drive\", force_remount=True).\n"
          ]
        }
      ]
    },
    {
      "cell_type": "code",
      "source": [
        "from helpers import *"
      ],
      "metadata": {
        "id": "Ix01Kie-ER5O"
      },
      "execution_count": 13,
      "outputs": []
    },
    {
      "cell_type": "code",
      "source": [
        "test_dir=\"/content/drive/My Drive/NN Dataset/Test/\"\n",
        "out_dir=\"/content/drive/My Drive/NN Dataset/Project/\"\n",
        "time_file=out_dir+\"times.txt\"\n",
        "result_file=out_dir+\"results.txt\""
      ],
      "metadata": {
        "id": "QOAI55dcJw2X"
      },
      "execution_count": 14,
      "outputs": []
    },
    {
      "cell_type": "code",
      "source": [
        "x_test=[]\n",
        "for filename in sorted(glob.glob(test_dir+'*.jpg')):\n",
        "    img = cv2.imread(filename)\n",
        "    x_test.append(img)"
      ],
      "metadata": {
        "id": "5Wq6b_cC4b4M"
      },
      "execution_count": 15,
      "outputs": []
    },
    {
      "cell_type": "code",
      "source": [
        "model=pickle.load(open(\"/content/drive/My Drive/NN Dataset/Project/model.sav\", 'rb'))"
      ],
      "metadata": {
        "id": "TrmuWvC-34e2"
      },
      "execution_count": 16,
      "outputs": []
    },
    {
      "cell_type": "code",
      "source": [
        "f1 = open(time_file, \"a\")\n",
        "f2 = open(result_file, \"a\")"
      ],
      "metadata": {
        "id": "tiRxREIwKP6y"
      },
      "execution_count": 30,
      "outputs": []
    },
    {
      "cell_type": "code",
      "source": [
        "for i in range(len(x_test)):\n",
        "    img_original = x_test[i]\n",
        "    test_point = extract_features(img_original)\n",
        "    start = time.time()\n",
        "    prediction = model.predict([test_point])[0]\n",
        "    end = time.time()\n",
        "    execution_time = end - start\n",
        "    f1.write(str(execution_time)+'\\n')\n",
        "    f2.write(str(prediction)+'\\n')\n"
      ],
      "metadata": {
        "id": "vz84CCUy4aPt"
      },
      "execution_count": 31,
      "outputs": []
    },
    {
      "cell_type": "code",
      "source": [
        "f1.close()\n",
        "f2.close()"
      ],
      "metadata": {
        "id": "vyHZC2-kKS4B"
      },
      "execution_count": 32,
      "outputs": []
    }
  ]
}