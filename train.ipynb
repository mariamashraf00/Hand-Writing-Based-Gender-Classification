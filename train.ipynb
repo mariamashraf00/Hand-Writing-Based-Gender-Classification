{
  "cells": [
    {
      "cell_type": "code",
      "execution_count": 23,
      "metadata": {
        "id": "WGR2bgkAaoDl"
      },
      "outputs": [],
      "source": [
        "import glob\n",
        "from sklearn import svm\n",
        "from sklearn.neighbors import KNeighborsClassifier\n",
        "from sklearn.linear_model import LogisticRegression\n",
        "from sklearn.ensemble import VotingClassifier,RandomForestClassifier\n",
        "from sklearn.utils import shuffle\n",
        "import pickle"
      ]
    },
    {
      "cell_type": "code",
      "execution_count": 24,
      "metadata": {
        "colab": {
          "base_uri": "https://localhost:8080/"
        },
        "id": "PK6v0oLbh1iW",
        "outputId": "70f1ecff-8df6-40eb-e95f-66f55be60a2a"
      },
      "outputs": [
        {
          "output_type": "stream",
          "name": "stdout",
          "text": [
            "Drive already mounted at /content/drive; to attempt to forcibly remount, call drive.mount(\"/content/drive\", force_remount=True).\n"
          ]
        }
      ],
      "source": [
        "import sys\n",
        "from google.colab import drive\n",
        "drive.mount('/content/drive')\n",
        "sys.path.append('/content/drive/My Drive/NN Dataset/Project')"
      ]
    },
    {
      "cell_type": "code",
      "source": [
        "from helpers import *"
      ],
      "metadata": {
        "id": "sjCzQ3vLDMss"
      },
      "execution_count": 25,
      "outputs": []
    },
    {
      "cell_type": "code",
      "execution_count": 26,
      "metadata": {
        "id": "X7iqPsTIhvla"
      },
      "outputs": [],
      "source": [
        "x_train = []\n",
        "y_train = []"
      ]
    },
    {
      "cell_type": "code",
      "execution_count": 27,
      "metadata": {
        "id": "IBXyOz6ShyeL"
      },
      "outputs": [],
      "source": [
        "for filename in sorted(glob.glob('/content/drive/My Drive/NN Dataset/Females/*.jpg')):\n",
        "    img = cv2.imread(filename)\n",
        "    x_train.append(img)\n",
        "    y_train.append(0)\n",
        "for filename in sorted(glob.glob('/content/drive/My Drive/NN Dataset/Males/*.jpg')):\n",
        "    img = cv2.imread(filename)\n",
        "    x_train.append(img)\n",
        "    y_train.append(1)"
      ]
    },
    {
      "cell_type": "code",
      "execution_count": 28,
      "metadata": {
        "id": "6P5mXmooN4OT",
        "colab": {
          "base_uri": "https://localhost:8080/"
        },
        "outputId": "7c5b2002-dfc7-407d-d319-88181314e5ca"
      },
      "outputs": [
        {
          "output_type": "stream",
          "name": "stderr",
          "text": [
            "/usr/local/lib/python3.7/dist-packages/ipykernel_launcher.py:2: VisibleDeprecationWarning: Creating an ndarray from ragged nested sequences (which is a list-or-tuple of lists-or-tuples-or ndarrays with different lengths or shapes) is deprecated. If you meant to do this, you must specify 'dtype=object' when creating the ndarray.\n",
            "  \n"
          ]
        }
      ],
      "source": [
        "x_train, y_train = shuffle(x_train, y_train, random_state=25)\n",
        "x_train = np.asarray(x_train)\n",
        "y_train = np.asarray(y_train)"
      ]
    },
    {
      "cell_type": "code",
      "execution_count": 29,
      "metadata": {
        "id": "h5yhC901OBzg"
      },
      "outputs": [],
      "source": [
        "training_features_hog=[]\n",
        "training_features_lbp=[]\n",
        "training_features_glcm=[]\n",
        "training_features_hinge=[]\n",
        "for i in range(x_train.shape[0]):\n",
        "    training_features_hog.append([])\n",
        "    training_features_hog[i],_=findHOG(x_train[i])\n",
        "    training_features_lbp.append([])\n",
        "    training_features_lbp[i]=findLBP(x_train[i])\n",
        "    training_features_glcm.append([])\n",
        "    training_features_glcm[i]=findGLCM(x_train[i])\n",
        "    training_features_hinge.append([])\n",
        "    training_features_hinge[i]=findHINGE(x_train[i])"
      ]
    },
    {
      "cell_type": "code",
      "execution_count": 30,
      "metadata": {
        "id": "zRKtuJaZODVc"
      },
      "outputs": [],
      "source": [
        "training_features=[]\n",
        "for i in range(x_train.shape[0]):\n",
        "  training_features.append([])\n",
        "  training_features[i]=[*training_features_hog[i],*training_features_lbp[i],*training_features_glcm[i],*training_features_hinge[i]]"
      ]
    },
    {
      "cell_type": "code",
      "execution_count": 31,
      "metadata": {
        "id": "DIptT5fIb-jI"
      },
      "outputs": [],
      "source": [
        "clf = svm.SVC(kernel='linear',probability=True)\n",
        "clf.fit(training_features, y_train)\n",
        "knn = KNeighborsClassifier(n_neighbors=3)\n",
        "knn.fit(training_features,y_train)\n",
        "logreg = LogisticRegression(max_iter=300)\n",
        "logreg.fit(training_features, y_train)\n",
        "rfc = RandomForestClassifier(n_estimators=100)\n",
        "rfc.fit(training_features, y_train);"
      ]
    },
    {
      "cell_type": "code",
      "source": [
        "eclf = VotingClassifier(estimators=[('LR', logreg), ('RF', rfc), ('KNN', knn), ('SVC', clf)],voting='soft', weights=[1,1,1,2])\n",
        "eclf.fit(training_features, y_train)"
      ],
      "metadata": {
        "id": "Zf8yIRw4mtl_",
        "colab": {
          "base_uri": "https://localhost:8080/"
        },
        "outputId": "38937ecb-475a-4fd3-9986-ca70ef82902f"
      },
      "execution_count": 32,
      "outputs": [
        {
          "output_type": "execute_result",
          "data": {
            "text/plain": [
              "VotingClassifier(estimators=[('LR', LogisticRegression(max_iter=300)),\n",
              "                             ('RF', RandomForestClassifier()),\n",
              "                             ('KNN', KNeighborsClassifier(n_neighbors=3)),\n",
              "                             ('SVC', SVC(kernel='linear', probability=True))],\n",
              "                 voting='soft', weights=[1, 1, 1, 2])"
            ]
          },
          "metadata": {},
          "execution_count": 32
        }
      ]
    },
    {
      "cell_type": "code",
      "execution_count": 38,
      "metadata": {
        "id": "iZeX93B2xAl3"
      },
      "outputs": [],
      "source": [
        "pickle.dump(eclf, open(\"/content/drive/My Drive/NN Dataset/Project/model.sav\", 'wb'))"
      ]
    }
  ],
  "metadata": {
    "colab": {
      "collapsed_sections": [],
      "name": "train.ipynb",
      "provenance": []
    },
    "kernelspec": {
      "display_name": "Python 3",
      "name": "python3"
    },
    "language_info": {
      "name": "python"
    }
  },
  "nbformat": 4,
  "nbformat_minor": 0
}